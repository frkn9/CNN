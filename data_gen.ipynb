{
 "cells": [
  {
   "cell_type": "code",
   "execution_count": 1,
   "id": "955ac7f4-faa1-4658-b6b1-99727a5f9118",
   "metadata": {},
   "outputs": [],
   "source": [
    "import os\n",
    "import cv2\n",
    "import numpy as np\n",
    "import tensorflow as tf\n",
    "from tensorflow.keras import activations\n",
    "from tensorflow.keras import layers\n",
    "from tensorflow.keras import optimizers\n",
    "from tensorflow.compat.v1 import ConfigProto\n",
    "from tensorflow.compat.v1 import InteractiveSession\n",
    "\n",
    "\n",
    "\n",
    "config = ConfigProto()\n",
    "config.gpu_options.allow_growth = True\n",
    "session = InteractiveSession(config=config)\n",
    "\n",
    "root = os.getcwd()\n"
   ]
  },
  {
   "cell_type": "code",
   "execution_count": 2,
   "id": "564eefe5-bb9d-4f48-b130-e22535f86017",
   "metadata": {},
   "outputs": [],
   "source": [
    "def data_generator(batch_size):\n",
    "    \n",
    "    path_post_enc = \"C:\\\\Users\\\\Furkan\\\\Desktop\\\\BLG4901E\\\\nii_deney\\\\post_enc_frames\"\n",
    "    path_pre_enc = \"C:\\\\Users\\\\Furkan\\\\Desktop\\\\BLG4901E\\\\nii_deney\\\\pre_enc_frames\"\n",
    "    start_index = 0\n",
    "    while True:\n",
    "        if start_index == 1:\n",
    "            break\n",
    "        encoded_images_array = []\n",
    "        ground_truth_array = []\n",
    "    \n",
    "        folders = os.listdir(path_post_enc)\n",
    "        for i in range(start_index, start_index + batch_size):\n",
    "            os.chdir(os.path.join(path_post_enc, folders[i]))\n",
    "            files = os.listdir(os.getcwd())\n",
    "            for file in files:\n",
    "                with open(file, 'rb') as yuv_file:\n",
    "                    encoded_images_array.append(np.frombuffer(yuv_file.read(256 * 256), dtype=np.uint8).reshape((256, 256)))\n",
    "                    \n",
    "        folders = os.listdir(path_pre_enc)\n",
    "        for i in range(start_index, start_index + batch_size):\n",
    "            os.chdir(os.path.join(path_pre_enc, folders[i]))\n",
    "            files = os.listdir(os.getcwd())\n",
    "            for file in files:\n",
    "                with open(file, 'rb') as yuv_file:\n",
    "                    ground_truth_array.append(np.frombuffer(yuv_file.read(256 * 256), dtype=np.uint8).reshape((256, 256)))\n",
    "        start_index += batch_size\n",
    "        \n",
    "        encoded_images_array = np.array(encoded_images_array) / 255.0\n",
    "        ground_truth_array = np.array(ground_truth_array) / 255.0\n",
    "\n",
    "        yield(encoded_images_array, ground_truth_array)\n"
   ]
  },
  {
   "cell_type": "code",
   "execution_count": 3,
   "id": "134cc2ff-5583-4f43-acba-480fffdc4245",
   "metadata": {},
   "outputs": [],
   "source": [
    "def validation_data(X_val, y_val):\n",
    "    path_post_enc = \"C:\\\\Users\\\\Furkan\\\\Desktop\\\\BLG4901E\\\\nii_deney\\\\post_enc_frames\"\n",
    "    path_pre_enc = \"C:\\\\Users\\\\Furkan\\\\Desktop\\\\BLG4901E\\\\nii_deney\\\\pre_enc_frames\"\n",
    "    \n",
    "    folders = os.listdir(path_post_enc)\n",
    "    for i in range(570, 578):\n",
    "        os.chdir(os.path.join(path_post_enc, folders[i]))\n",
    "        files = os.listdir(os.getcwd())\n",
    "        for file in files:\n",
    "            with open(file, 'rb') as yuv_file:\n",
    "                X_val.append(np.frombuffer(yuv_file.read(256 * 256), dtype=np.uint8).reshape((256, 256)))\n",
    "\n",
    "    folders = os.listdir(path_pre_enc)\n",
    "    for i in range(570, 578):\n",
    "        os.chdir(os.path.join(path_pre_enc, folders[i]))\n",
    "        files = os.listdir(os.getcwd())\n",
    "        for file in files:\n",
    "            with open(file, 'rb') as yuv_file:\n",
    "                y_val.append(np.frombuffer(yuv_file.read(256 * 256), dtype=np.uint8).reshape((256, 256)))"
   ]
  },
  {
   "cell_type": "code",
   "execution_count": 4,
   "id": "acce79e8-f569-49d1-957d-64c9ff8cb24c",
   "metadata": {},
   "outputs": [
    {
     "data": {
      "text/plain": [
       "\"\\ndef SpatialAttention(input):\\n    x_shortcut = input\\n    x = layers.Conv2D(filters=16, kernel_size=3, strides=1, padding='same')(input)\\n    x = layers.ReLU()(x)\\n    x = layers.Conv2D(filters=1, kernel_size=3, strides=1, padding='same')(x)\\n    x = layers.Activation('sigmoid')(x)\\n    out = layers.Multiply()([x_shortcut, x])\\n\\n    return out\\n    \""
      ]
     },
     "execution_count": 4,
     "metadata": {},
     "output_type": "execute_result"
    }
   ],
   "source": [
    "\n",
    "def SpatialAttention(input):\n",
    "    x = layers.Conv2D(filters=16, kernel_size=3, strides=1, padding='same')(input)\n",
    "    x = layers.ReLU()(x)\n",
    "    x = layers.Conv2D(filters=1, kernel_size=3, strides=1, padding='same')(x)\n",
    "    out = layers.Activation('sigmoid')(x)\n",
    "\n",
    "    return out\n",
    "    \n",
    "'''\n",
    "def SpatialAttention(input):\n",
    "    x_shortcut = input\n",
    "    x = layers.Conv2D(filters=16, kernel_size=3, strides=1, padding='same')(input)\n",
    "    x = layers.ReLU()(x)\n",
    "    x = layers.Conv2D(filters=1, kernel_size=3, strides=1, padding='same')(x)\n",
    "    x = layers.Activation('sigmoid')(x)\n",
    "    out = layers.Multiply()([x_shortcut, x])\n",
    "\n",
    "    return out\n",
    "    '''"
   ]
  },
  {
   "cell_type": "code",
   "execution_count": 5,
   "id": "a5870764-8014-4f9e-98bf-3d37e9bf7db2",
   "metadata": {},
   "outputs": [],
   "source": [
    "\n",
    "def ChannelAttention(input):\n",
    "    sh = input.get_shape().as_list()\n",
    "    x = layers.GlobalAveragePooling2D()(input)\n",
    "    x = layers.Dense(8)(x)\n",
    "    x = layers.ReLU()(x)\n",
    "    x = layers.Dense(sh[-1])(x)\n",
    "    out = layers.Activation('sigmoid')(x)\n",
    "\n",
    "    return out\n"
   ]
  },
  {
   "cell_type": "code",
   "execution_count": 6,
   "id": "9712dff1-f8f6-42b7-8a1a-f23ac81e9740",
   "metadata": {},
   "outputs": [],
   "source": [
    "def ResidualAttentionBlock(x):\n",
    "    x_shortcut = x\n",
    "\n",
    "    x = layers.Conv2D(filters=1, kernel_size=3, padding=\"same\")(x)  # conv 1\n",
    "   # x = layers.BatchNormalization()(x)\n",
    "    spatial_attention = SpatialAttention(x)  # spatial attention\n",
    "    x = layers.Multiply()([x, spatial_attention])  # multiply\n",
    "\n",
    "    x = layers.Conv2D(filters=16, kernel_size=3, padding=\"same\")(x)  # conv 2\n",
    "   # x = layers.BatchNormalization()(x)\n",
    "    x = layers.LeakyReLU(alpha=0.05)(x)  # leaky relu\n",
    "    x = layers.Conv2D(filters=1, kernel_size=3, padding=\"same\")(x)  # conv 2\n",
    "  #  x = layers.BatchNormalization()(x)\n",
    "\n",
    "    x = layers.Add()([x, x_shortcut])  # add\n",
    "  #  x = layers.BatchNormalization()(x)\n",
    "  #  x = activations.sigmoid(x)\n",
    "\n",
    "    return x\n"
   ]
  },
  {
   "cell_type": "code",
   "execution_count": 7,
   "id": "1d6487fa-fb60-4719-9610-3e2b353b9b04",
   "metadata": {},
   "outputs": [],
   "source": [
    "def CNN(num_blocks):\n",
    "    input_layer = layers.Input(shape=(256, 256, 1))\n",
    "    x = input_layer\n",
    "\n",
    "    for _ in range(num_blocks):\n",
    "        x = ResidualAttentionBlock(x)\n",
    "\n",
    "    model = tf.keras.Model(inputs=input_layer, outputs=x)\n",
    "    return model\n"
   ]
  },
  {
   "cell_type": "code",
   "execution_count": 8,
   "id": "90ec307f-86ac-4e43-91ee-6ea5fbf43485",
   "metadata": {},
   "outputs": [],
   "source": [
    "num_blocks = 30\n",
    "\n",
    "optimizer = optimizers.Adam(learning_rate=0.001)\n",
    "\n",
    "Model = CNN(num_blocks)\n",
    "\n",
    "Model.compile(optimizer=optimizer, loss='mae')\n",
    "# Model.summary()"
   ]
  },
  {
   "cell_type": "code",
   "execution_count": 9,
   "id": "51b10028-bce7-49f8-87e6-0f5a574265b5",
   "metadata": {},
   "outputs": [],
   "source": [
    "batch_size = 2\n",
    "data_gen = data_generator(batch_size)"
   ]
  },
  {
   "cell_type": "code",
   "execution_count": 10,
   "id": "0c36ddcb-d062-43f3-a9e4-cdc300ddf6cf",
   "metadata": {
    "scrolled": true
   },
   "outputs": [
    {
     "ename": "ResourceExhaustedError",
     "evalue": "Graph execution error:\n\nDetected at node 'model/leaky_re_lu/LeakyRelu' defined at (most recent call last):\n    File \"C:\\Users\\Furkan\\anaconda3\\envs\\tensorflowgpu\\lib\\runpy.py\", line 196, in _run_module_as_main\n      return _run_code(code, main_globals, None,\n    File \"C:\\Users\\Furkan\\anaconda3\\envs\\tensorflowgpu\\lib\\runpy.py\", line 86, in _run_code\n      exec(code, run_globals)\n    File \"C:\\Users\\Furkan\\anaconda3\\envs\\tensorflowgpu\\lib\\site-packages\\ipykernel_launcher.py\", line 17, in <module>\n      app.launch_new_instance()\n    File \"C:\\Users\\Furkan\\anaconda3\\envs\\tensorflowgpu\\lib\\site-packages\\traitlets\\config\\application.py\", line 992, in launch_instance\n      app.start()\n    File \"C:\\Users\\Furkan\\anaconda3\\envs\\tensorflowgpu\\lib\\site-packages\\ipykernel\\kernelapp.py\", line 701, in start\n      self.io_loop.start()\n    File \"C:\\Users\\Furkan\\anaconda3\\envs\\tensorflowgpu\\lib\\site-packages\\tornado\\platform\\asyncio.py\", line 195, in start\n      self.asyncio_loop.run_forever()\n    File \"C:\\Users\\Furkan\\anaconda3\\envs\\tensorflowgpu\\lib\\asyncio\\windows_events.py\", line 321, in run_forever\n      super().run_forever()\n    File \"C:\\Users\\Furkan\\anaconda3\\envs\\tensorflowgpu\\lib\\asyncio\\base_events.py\", line 603, in run_forever\n      self._run_once()\n    File \"C:\\Users\\Furkan\\anaconda3\\envs\\tensorflowgpu\\lib\\asyncio\\base_events.py\", line 1909, in _run_once\n      handle._run()\n    File \"C:\\Users\\Furkan\\anaconda3\\envs\\tensorflowgpu\\lib\\asyncio\\events.py\", line 80, in _run\n      self._context.run(self._callback, *self._args)\n    File \"C:\\Users\\Furkan\\anaconda3\\envs\\tensorflowgpu\\lib\\site-packages\\ipykernel\\kernelbase.py\", line 534, in dispatch_queue\n      await self.process_one()\n    File \"C:\\Users\\Furkan\\anaconda3\\envs\\tensorflowgpu\\lib\\site-packages\\ipykernel\\kernelbase.py\", line 523, in process_one\n      await dispatch(*args)\n    File \"C:\\Users\\Furkan\\anaconda3\\envs\\tensorflowgpu\\lib\\site-packages\\ipykernel\\kernelbase.py\", line 429, in dispatch_shell\n      await result\n    File \"C:\\Users\\Furkan\\anaconda3\\envs\\tensorflowgpu\\lib\\site-packages\\ipykernel\\kernelbase.py\", line 767, in execute_request\n      reply_content = await reply_content\n    File \"C:\\Users\\Furkan\\anaconda3\\envs\\tensorflowgpu\\lib\\site-packages\\ipykernel\\ipkernel.py\", line 429, in do_execute\n      res = shell.run_cell(\n    File \"C:\\Users\\Furkan\\anaconda3\\envs\\tensorflowgpu\\lib\\site-packages\\ipykernel\\zmqshell.py\", line 549, in run_cell\n      return super().run_cell(*args, **kwargs)\n    File \"C:\\Users\\Furkan\\anaconda3\\envs\\tensorflowgpu\\lib\\site-packages\\IPython\\core\\interactiveshell.py\", line 3051, in run_cell\n      result = self._run_cell(\n    File \"C:\\Users\\Furkan\\anaconda3\\envs\\tensorflowgpu\\lib\\site-packages\\IPython\\core\\interactiveshell.py\", line 3106, in _run_cell\n      result = runner(coro)\n    File \"C:\\Users\\Furkan\\anaconda3\\envs\\tensorflowgpu\\lib\\site-packages\\IPython\\core\\async_helpers.py\", line 129, in _pseudo_sync_runner\n      coro.send(None)\n    File \"C:\\Users\\Furkan\\anaconda3\\envs\\tensorflowgpu\\lib\\site-packages\\IPython\\core\\interactiveshell.py\", line 3311, in run_cell_async\n      has_raised = await self.run_ast_nodes(code_ast.body, cell_name,\n    File \"C:\\Users\\Furkan\\anaconda3\\envs\\tensorflowgpu\\lib\\site-packages\\IPython\\core\\interactiveshell.py\", line 3493, in run_ast_nodes\n      if await self.run_code(code, result, async_=asy):\n    File \"C:\\Users\\Furkan\\anaconda3\\envs\\tensorflowgpu\\lib\\site-packages\\IPython\\core\\interactiveshell.py\", line 3553, in run_code\n      exec(code_obj, self.user_global_ns, self.user_ns)\n    File \"C:\\Users\\Furkan\\AppData\\Local\\Temp\\ipykernel_8156\\2777063076.py\", line 4, in <module>\n      Model.fit(\n    File \"C:\\Users\\Furkan\\anaconda3\\envs\\tensorflowgpu\\lib\\site-packages\\keras\\utils\\traceback_utils.py\", line 65, in error_handler\n      return fn(*args, **kwargs)\n    File \"C:\\Users\\Furkan\\anaconda3\\envs\\tensorflowgpu\\lib\\site-packages\\keras\\engine\\training.py\", line 1564, in fit\n      tmp_logs = self.train_function(iterator)\n    File \"C:\\Users\\Furkan\\anaconda3\\envs\\tensorflowgpu\\lib\\site-packages\\keras\\engine\\training.py\", line 1160, in train_function\n      return step_function(self, iterator)\n    File \"C:\\Users\\Furkan\\anaconda3\\envs\\tensorflowgpu\\lib\\site-packages\\keras\\engine\\training.py\", line 1146, in step_function\n      outputs = model.distribute_strategy.run(run_step, args=(data,))\n    File \"C:\\Users\\Furkan\\anaconda3\\envs\\tensorflowgpu\\lib\\site-packages\\keras\\engine\\training.py\", line 1135, in run_step\n      outputs = model.train_step(data)\n    File \"C:\\Users\\Furkan\\anaconda3\\envs\\tensorflowgpu\\lib\\site-packages\\keras\\engine\\training.py\", line 993, in train_step\n      y_pred = self(x, training=True)\n    File \"C:\\Users\\Furkan\\anaconda3\\envs\\tensorflowgpu\\lib\\site-packages\\keras\\utils\\traceback_utils.py\", line 65, in error_handler\n      return fn(*args, **kwargs)\n    File \"C:\\Users\\Furkan\\anaconda3\\envs\\tensorflowgpu\\lib\\site-packages\\keras\\engine\\training.py\", line 557, in __call__\n      return super().__call__(*args, **kwargs)\n    File \"C:\\Users\\Furkan\\anaconda3\\envs\\tensorflowgpu\\lib\\site-packages\\keras\\utils\\traceback_utils.py\", line 65, in error_handler\n      return fn(*args, **kwargs)\n    File \"C:\\Users\\Furkan\\anaconda3\\envs\\tensorflowgpu\\lib\\site-packages\\keras\\engine\\base_layer.py\", line 1097, in __call__\n      outputs = call_fn(inputs, *args, **kwargs)\n    File \"C:\\Users\\Furkan\\anaconda3\\envs\\tensorflowgpu\\lib\\site-packages\\keras\\utils\\traceback_utils.py\", line 96, in error_handler\n      return fn(*args, **kwargs)\n    File \"C:\\Users\\Furkan\\anaconda3\\envs\\tensorflowgpu\\lib\\site-packages\\keras\\engine\\functional.py\", line 510, in call\n      return self._run_internal_graph(inputs, training=training, mask=mask)\n    File \"C:\\Users\\Furkan\\anaconda3\\envs\\tensorflowgpu\\lib\\site-packages\\keras\\engine\\functional.py\", line 667, in _run_internal_graph\n      outputs = node.layer(*args, **kwargs)\n    File \"C:\\Users\\Furkan\\anaconda3\\envs\\tensorflowgpu\\lib\\site-packages\\keras\\utils\\traceback_utils.py\", line 65, in error_handler\n      return fn(*args, **kwargs)\n    File \"C:\\Users\\Furkan\\anaconda3\\envs\\tensorflowgpu\\lib\\site-packages\\keras\\engine\\base_layer.py\", line 1097, in __call__\n      outputs = call_fn(inputs, *args, **kwargs)\n    File \"C:\\Users\\Furkan\\anaconda3\\envs\\tensorflowgpu\\lib\\site-packages\\keras\\utils\\traceback_utils.py\", line 96, in error_handler\n      return fn(*args, **kwargs)\n    File \"C:\\Users\\Furkan\\anaconda3\\envs\\tensorflowgpu\\lib\\site-packages\\keras\\layers\\activation\\leaky_relu.py\", line 72, in call\n      return backend.relu(inputs, alpha=self.alpha)\n    File \"C:\\Users\\Furkan\\anaconda3\\envs\\tensorflowgpu\\lib\\site-packages\\keras\\backend.py\", line 5349, in relu\n      return tf.nn.leaky_relu(x, alpha=alpha)\nNode: 'model/leaky_re_lu/LeakyRelu'\nOOM when allocating tensor with shape[242,256,256,16] and type float on /job:localhost/replica:0/task:0/device:GPU:0 by allocator GPU_0_bfc\n\t [[{{node model/leaky_re_lu/LeakyRelu}}]]\nHint: If you want to see a list of allocated tensors when OOM happens, add report_tensor_allocations_upon_oom to RunOptions for current allocation info. This isn't available when running in Eager mode.\n [Op:__inference_train_function_16344]",
     "output_type": "error",
     "traceback": [
      "\u001b[1;31m---------------------------------------------------------------------------\u001b[0m",
      "\u001b[1;31mResourceExhaustedError\u001b[0m                    Traceback (most recent call last)",
      "Cell \u001b[1;32mIn[10], line 4\u001b[0m\n\u001b[0;32m      1\u001b[0m epochs \u001b[38;5;241m=\u001b[39m \u001b[38;5;241m20\u001b[39m\n\u001b[0;32m      2\u001b[0m st_ix \u001b[38;5;241m=\u001b[39m \u001b[38;5;241m0\u001b[39m\n\u001b[1;32m----> 4\u001b[0m \u001b[43mModel\u001b[49m\u001b[38;5;241;43m.\u001b[39;49m\u001b[43mfit\u001b[49m\u001b[43m(\u001b[49m\n\u001b[0;32m      5\u001b[0m \u001b[43m    \u001b[49m\u001b[43mx\u001b[49m\u001b[38;5;241;43m=\u001b[39;49m\u001b[43mdata_gen\u001b[49m\u001b[43m,\u001b[49m\n\u001b[0;32m      6\u001b[0m \u001b[43m    \u001b[49m\u001b[43msteps_per_epoch\u001b[49m\u001b[38;5;241;43m=\u001b[39;49m\u001b[38;5;241;43m1\u001b[39;49m\u001b[43m,\u001b[49m\n\u001b[0;32m      7\u001b[0m \u001b[43m    \u001b[49m\u001b[43mshuffle\u001b[49m\u001b[38;5;241;43m=\u001b[39;49m\u001b[38;5;28;43;01mFalse\u001b[39;49;00m\u001b[43m,\u001b[49m\n\u001b[0;32m      8\u001b[0m \u001b[43m)\u001b[49m\n",
      "File \u001b[1;32m~\\anaconda3\\envs\\tensorflowgpu\\lib\\site-packages\\keras\\utils\\traceback_utils.py:70\u001b[0m, in \u001b[0;36mfilter_traceback.<locals>.error_handler\u001b[1;34m(*args, **kwargs)\u001b[0m\n\u001b[0;32m     67\u001b[0m     filtered_tb \u001b[38;5;241m=\u001b[39m _process_traceback_frames(e\u001b[38;5;241m.\u001b[39m__traceback__)\n\u001b[0;32m     68\u001b[0m     \u001b[38;5;66;03m# To get the full stack trace, call:\u001b[39;00m\n\u001b[0;32m     69\u001b[0m     \u001b[38;5;66;03m# `tf.debugging.disable_traceback_filtering()`\u001b[39;00m\n\u001b[1;32m---> 70\u001b[0m     \u001b[38;5;28;01mraise\u001b[39;00m e\u001b[38;5;241m.\u001b[39mwith_traceback(filtered_tb) \u001b[38;5;28;01mfrom\u001b[39;00m \u001b[38;5;28;01mNone\u001b[39;00m\n\u001b[0;32m     71\u001b[0m \u001b[38;5;28;01mfinally\u001b[39;00m:\n\u001b[0;32m     72\u001b[0m     \u001b[38;5;28;01mdel\u001b[39;00m filtered_tb\n",
      "File \u001b[1;32m~\\anaconda3\\envs\\tensorflowgpu\\lib\\site-packages\\tensorflow\\python\\eager\\execute.py:54\u001b[0m, in \u001b[0;36mquick_execute\u001b[1;34m(op_name, num_outputs, inputs, attrs, ctx, name)\u001b[0m\n\u001b[0;32m     52\u001b[0m \u001b[38;5;28;01mtry\u001b[39;00m:\n\u001b[0;32m     53\u001b[0m   ctx\u001b[38;5;241m.\u001b[39mensure_initialized()\n\u001b[1;32m---> 54\u001b[0m   tensors \u001b[38;5;241m=\u001b[39m pywrap_tfe\u001b[38;5;241m.\u001b[39mTFE_Py_Execute(ctx\u001b[38;5;241m.\u001b[39m_handle, device_name, op_name,\n\u001b[0;32m     55\u001b[0m                                       inputs, attrs, num_outputs)\n\u001b[0;32m     56\u001b[0m \u001b[38;5;28;01mexcept\u001b[39;00m core\u001b[38;5;241m.\u001b[39m_NotOkStatusException \u001b[38;5;28;01mas\u001b[39;00m e:\n\u001b[0;32m     57\u001b[0m   \u001b[38;5;28;01mif\u001b[39;00m name \u001b[38;5;129;01mis\u001b[39;00m \u001b[38;5;129;01mnot\u001b[39;00m \u001b[38;5;28;01mNone\u001b[39;00m:\n",
      "\u001b[1;31mResourceExhaustedError\u001b[0m: Graph execution error:\n\nDetected at node 'model/leaky_re_lu/LeakyRelu' defined at (most recent call last):\n    File \"C:\\Users\\Furkan\\anaconda3\\envs\\tensorflowgpu\\lib\\runpy.py\", line 196, in _run_module_as_main\n      return _run_code(code, main_globals, None,\n    File \"C:\\Users\\Furkan\\anaconda3\\envs\\tensorflowgpu\\lib\\runpy.py\", line 86, in _run_code\n      exec(code, run_globals)\n    File \"C:\\Users\\Furkan\\anaconda3\\envs\\tensorflowgpu\\lib\\site-packages\\ipykernel_launcher.py\", line 17, in <module>\n      app.launch_new_instance()\n    File \"C:\\Users\\Furkan\\anaconda3\\envs\\tensorflowgpu\\lib\\site-packages\\traitlets\\config\\application.py\", line 992, in launch_instance\n      app.start()\n    File \"C:\\Users\\Furkan\\anaconda3\\envs\\tensorflowgpu\\lib\\site-packages\\ipykernel\\kernelapp.py\", line 701, in start\n      self.io_loop.start()\n    File \"C:\\Users\\Furkan\\anaconda3\\envs\\tensorflowgpu\\lib\\site-packages\\tornado\\platform\\asyncio.py\", line 195, in start\n      self.asyncio_loop.run_forever()\n    File \"C:\\Users\\Furkan\\anaconda3\\envs\\tensorflowgpu\\lib\\asyncio\\windows_events.py\", line 321, in run_forever\n      super().run_forever()\n    File \"C:\\Users\\Furkan\\anaconda3\\envs\\tensorflowgpu\\lib\\asyncio\\base_events.py\", line 603, in run_forever\n      self._run_once()\n    File \"C:\\Users\\Furkan\\anaconda3\\envs\\tensorflowgpu\\lib\\asyncio\\base_events.py\", line 1909, in _run_once\n      handle._run()\n    File \"C:\\Users\\Furkan\\anaconda3\\envs\\tensorflowgpu\\lib\\asyncio\\events.py\", line 80, in _run\n      self._context.run(self._callback, *self._args)\n    File \"C:\\Users\\Furkan\\anaconda3\\envs\\tensorflowgpu\\lib\\site-packages\\ipykernel\\kernelbase.py\", line 534, in dispatch_queue\n      await self.process_one()\n    File \"C:\\Users\\Furkan\\anaconda3\\envs\\tensorflowgpu\\lib\\site-packages\\ipykernel\\kernelbase.py\", line 523, in process_one\n      await dispatch(*args)\n    File \"C:\\Users\\Furkan\\anaconda3\\envs\\tensorflowgpu\\lib\\site-packages\\ipykernel\\kernelbase.py\", line 429, in dispatch_shell\n      await result\n    File \"C:\\Users\\Furkan\\anaconda3\\envs\\tensorflowgpu\\lib\\site-packages\\ipykernel\\kernelbase.py\", line 767, in execute_request\n      reply_content = await reply_content\n    File \"C:\\Users\\Furkan\\anaconda3\\envs\\tensorflowgpu\\lib\\site-packages\\ipykernel\\ipkernel.py\", line 429, in do_execute\n      res = shell.run_cell(\n    File \"C:\\Users\\Furkan\\anaconda3\\envs\\tensorflowgpu\\lib\\site-packages\\ipykernel\\zmqshell.py\", line 549, in run_cell\n      return super().run_cell(*args, **kwargs)\n    File \"C:\\Users\\Furkan\\anaconda3\\envs\\tensorflowgpu\\lib\\site-packages\\IPython\\core\\interactiveshell.py\", line 3051, in run_cell\n      result = self._run_cell(\n    File \"C:\\Users\\Furkan\\anaconda3\\envs\\tensorflowgpu\\lib\\site-packages\\IPython\\core\\interactiveshell.py\", line 3106, in _run_cell\n      result = runner(coro)\n    File \"C:\\Users\\Furkan\\anaconda3\\envs\\tensorflowgpu\\lib\\site-packages\\IPython\\core\\async_helpers.py\", line 129, in _pseudo_sync_runner\n      coro.send(None)\n    File \"C:\\Users\\Furkan\\anaconda3\\envs\\tensorflowgpu\\lib\\site-packages\\IPython\\core\\interactiveshell.py\", line 3311, in run_cell_async\n      has_raised = await self.run_ast_nodes(code_ast.body, cell_name,\n    File \"C:\\Users\\Furkan\\anaconda3\\envs\\tensorflowgpu\\lib\\site-packages\\IPython\\core\\interactiveshell.py\", line 3493, in run_ast_nodes\n      if await self.run_code(code, result, async_=asy):\n    File \"C:\\Users\\Furkan\\anaconda3\\envs\\tensorflowgpu\\lib\\site-packages\\IPython\\core\\interactiveshell.py\", line 3553, in run_code\n      exec(code_obj, self.user_global_ns, self.user_ns)\n    File \"C:\\Users\\Furkan\\AppData\\Local\\Temp\\ipykernel_8156\\2777063076.py\", line 4, in <module>\n      Model.fit(\n    File \"C:\\Users\\Furkan\\anaconda3\\envs\\tensorflowgpu\\lib\\site-packages\\keras\\utils\\traceback_utils.py\", line 65, in error_handler\n      return fn(*args, **kwargs)\n    File \"C:\\Users\\Furkan\\anaconda3\\envs\\tensorflowgpu\\lib\\site-packages\\keras\\engine\\training.py\", line 1564, in fit\n      tmp_logs = self.train_function(iterator)\n    File \"C:\\Users\\Furkan\\anaconda3\\envs\\tensorflowgpu\\lib\\site-packages\\keras\\engine\\training.py\", line 1160, in train_function\n      return step_function(self, iterator)\n    File \"C:\\Users\\Furkan\\anaconda3\\envs\\tensorflowgpu\\lib\\site-packages\\keras\\engine\\training.py\", line 1146, in step_function\n      outputs = model.distribute_strategy.run(run_step, args=(data,))\n    File \"C:\\Users\\Furkan\\anaconda3\\envs\\tensorflowgpu\\lib\\site-packages\\keras\\engine\\training.py\", line 1135, in run_step\n      outputs = model.train_step(data)\n    File \"C:\\Users\\Furkan\\anaconda3\\envs\\tensorflowgpu\\lib\\site-packages\\keras\\engine\\training.py\", line 993, in train_step\n      y_pred = self(x, training=True)\n    File \"C:\\Users\\Furkan\\anaconda3\\envs\\tensorflowgpu\\lib\\site-packages\\keras\\utils\\traceback_utils.py\", line 65, in error_handler\n      return fn(*args, **kwargs)\n    File \"C:\\Users\\Furkan\\anaconda3\\envs\\tensorflowgpu\\lib\\site-packages\\keras\\engine\\training.py\", line 557, in __call__\n      return super().__call__(*args, **kwargs)\n    File \"C:\\Users\\Furkan\\anaconda3\\envs\\tensorflowgpu\\lib\\site-packages\\keras\\utils\\traceback_utils.py\", line 65, in error_handler\n      return fn(*args, **kwargs)\n    File \"C:\\Users\\Furkan\\anaconda3\\envs\\tensorflowgpu\\lib\\site-packages\\keras\\engine\\base_layer.py\", line 1097, in __call__\n      outputs = call_fn(inputs, *args, **kwargs)\n    File \"C:\\Users\\Furkan\\anaconda3\\envs\\tensorflowgpu\\lib\\site-packages\\keras\\utils\\traceback_utils.py\", line 96, in error_handler\n      return fn(*args, **kwargs)\n    File \"C:\\Users\\Furkan\\anaconda3\\envs\\tensorflowgpu\\lib\\site-packages\\keras\\engine\\functional.py\", line 510, in call\n      return self._run_internal_graph(inputs, training=training, mask=mask)\n    File \"C:\\Users\\Furkan\\anaconda3\\envs\\tensorflowgpu\\lib\\site-packages\\keras\\engine\\functional.py\", line 667, in _run_internal_graph\n      outputs = node.layer(*args, **kwargs)\n    File \"C:\\Users\\Furkan\\anaconda3\\envs\\tensorflowgpu\\lib\\site-packages\\keras\\utils\\traceback_utils.py\", line 65, in error_handler\n      return fn(*args, **kwargs)\n    File \"C:\\Users\\Furkan\\anaconda3\\envs\\tensorflowgpu\\lib\\site-packages\\keras\\engine\\base_layer.py\", line 1097, in __call__\n      outputs = call_fn(inputs, *args, **kwargs)\n    File \"C:\\Users\\Furkan\\anaconda3\\envs\\tensorflowgpu\\lib\\site-packages\\keras\\utils\\traceback_utils.py\", line 96, in error_handler\n      return fn(*args, **kwargs)\n    File \"C:\\Users\\Furkan\\anaconda3\\envs\\tensorflowgpu\\lib\\site-packages\\keras\\layers\\activation\\leaky_relu.py\", line 72, in call\n      return backend.relu(inputs, alpha=self.alpha)\n    File \"C:\\Users\\Furkan\\anaconda3\\envs\\tensorflowgpu\\lib\\site-packages\\keras\\backend.py\", line 5349, in relu\n      return tf.nn.leaky_relu(x, alpha=alpha)\nNode: 'model/leaky_re_lu/LeakyRelu'\nOOM when allocating tensor with shape[242,256,256,16] and type float on /job:localhost/replica:0/task:0/device:GPU:0 by allocator GPU_0_bfc\n\t [[{{node model/leaky_re_lu/LeakyRelu}}]]\nHint: If you want to see a list of allocated tensors when OOM happens, add report_tensor_allocations_upon_oom to RunOptions for current allocation info. This isn't available when running in Eager mode.\n [Op:__inference_train_function_16344]"
     ]
    }
   ],
   "source": [
    "\n",
    "Model.fit(\n",
    "    x=data_gen,\n",
    "    steps_per_epoch=1,\n",
    "    shuffle=False,\n",
    ")\n",
    "\n"
   ]
  },
  {
   "cell_type": "code",
   "execution_count": null,
   "id": "565d165a-014a-4f1f-99fb-75c7dffb5b0e",
   "metadata": {},
   "outputs": [],
   "source": [
    "predictions = Model.predict(X_val)"
   ]
  },
  {
   "cell_type": "code",
   "execution_count": null,
   "id": "17855dc4-fdfb-44b9-9291-e95d21993efe",
   "metadata": {},
   "outputs": [],
   "source": [
    "predictions[predictions < 0] = 0\n",
    "\n",
    "predictions[predictions > 255] = 255"
   ]
  },
  {
   "cell_type": "code",
   "execution_count": null,
   "id": "b8950d0e-855c-4248-b4ed-9a0ec88e8ad8",
   "metadata": {},
   "outputs": [],
   "source": [
    "os.chdir(root)\n",
    "cv2.imwrite(\"C:\\\\Users\\\\Furkan\\\\Desktop\\\\BLG4901E\\\\CNN\\\\as.png\", predictions[0] * 255)"
   ]
  },
  {
   "cell_type": "code",
   "execution_count": null,
   "id": "542eb079-7484-4d48-b1a2-7cbee627fd46",
   "metadata": {},
   "outputs": [],
   "source": []
  }
 ],
 "metadata": {
  "kernelspec": {
   "display_name": "Python 3 (ipykernel)",
   "language": "python",
   "name": "python3"
  },
  "language_info": {
   "codemirror_mode": {
    "name": "ipython",
    "version": 3
   },
   "file_extension": ".py",
   "mimetype": "text/x-python",
   "name": "python",
   "nbconvert_exporter": "python",
   "pygments_lexer": "ipython3",
   "version": "3.10.13"
  }
 },
 "nbformat": 4,
 "nbformat_minor": 5
}

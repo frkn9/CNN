{
 "cells": [
  {
   "cell_type": "code",
   "execution_count": 1,
   "id": "955ac7f4-faa1-4658-b6b1-99727a5f9118",
   "metadata": {},
   "outputs": [],
   "source": [
    "import os\n",
    "import cv2\n",
    "import numpy as np\n",
    "import tensorflow as tf\n",
    "from tensorflow.keras import activations\n",
    "from tensorflow.keras import layers\n",
    "from tensorflow.keras import optimizers\n",
    "from tensorflow.compat.v1 import ConfigProto\n",
    "from tensorflow.compat.v1 import InteractiveSession\n",
    "\n",
    "\n",
    "\n",
    "config = ConfigProto()\n",
    "config.gpu_options.allow_growth = True\n",
    "session = InteractiveSession(config=config)\n",
    "\n",
    "root = os.getcwd()\n"
   ]
  },
  {
   "cell_type": "code",
   "execution_count": 2,
   "id": "564eefe5-bb9d-4f48-b130-e22535f86017",
   "metadata": {},
   "outputs": [],
   "source": [
    "def data_generator(encoded_images_array, ground_truth_array, start_index):\n",
    "    \n",
    "    path_post_enc = \"C:\\\\Users\\\\Furkan\\\\Desktop\\\\BLG4901E\\\\nii_deney\\\\post_enc_frames\"\n",
    "    path_pre_enc = \"C:\\\\Users\\\\Furkan\\\\Desktop\\\\BLG4901E\\\\nii_deney\\\\pre_enc_frames\"\n",
    "    batch_size = 10\n",
    "    \n",
    "    folders = os.listdir(path_post_enc)\n",
    "    for i in range(start_index, start_index + batch_size):\n",
    "        os.chdir(os.path.join(path_post_enc, folders[i]))\n",
    "        files = os.listdir(os.getcwd())\n",
    "        for file in files:\n",
    "            with open(file, 'rb') as yuv_file:\n",
    "                encoded_images_array.append(np.frombuffer(yuv_file.read(256 * 256), dtype=np.uint8).reshape((256, 256)))\n",
    "\n",
    "    folders = os.listdir(path_pre_enc)\n",
    "    for i in range(start_index, start_index + batch_size):\n",
    "        os.chdir(os.path.join(path_pre_enc, folders[i]))\n",
    "        files = os.listdir(os.getcwd())\n",
    "        for file in files:\n",
    "            with open(file, 'rb') as yuv_file:\n",
    "                ground_truth_array.append(np.frombuffer(yuv_file.read(256 * 256), dtype=np.uint8).reshape((256, 256)))\n",
    "\n",
    "    return start_index + 10\n"
   ]
  },
  {
   "cell_type": "code",
   "execution_count": 3,
   "id": "134cc2ff-5583-4f43-acba-480fffdc4245",
   "metadata": {},
   "outputs": [],
   "source": [
    "def validation_data(X_val, y_val):\n",
    "    path_post_enc = \"C:\\\\Users\\\\Furkan\\\\Desktop\\\\BLG4901E\\\\nii_deney\\\\post_enc_frames\"\n",
    "    path_pre_enc = \"C:\\\\Users\\\\Furkan\\\\Desktop\\\\BLG4901E\\\\nii_deney\\\\pre_enc_frames\"\n",
    "    \n",
    "    folders = os.listdir(path_post_enc)\n",
    "    for i in range(570, 578):\n",
    "        os.chdir(os.path.join(path_post_enc, folders[i]))\n",
    "        files = os.listdir(os.getcwd())\n",
    "        for file in files:\n",
    "            with open(file, 'rb') as yuv_file:\n",
    "                X_val.append(np.frombuffer(yuv_file.read(256 * 256), dtype=np.uint8).reshape((256, 256)))\n",
    "\n",
    "    folders = os.listdir(path_pre_enc)\n",
    "    for i in range(570, 578):\n",
    "        os.chdir(os.path.join(path_pre_enc, folders[i]))\n",
    "        files = os.listdir(os.getcwd())\n",
    "        for file in files:\n",
    "            with open(file, 'rb') as yuv_file:\n",
    "                y_val.append(np.frombuffer(yuv_file.read(256 * 256), dtype=np.uint8).reshape((256, 256)))"
   ]
  },
  {
   "cell_type": "code",
   "execution_count": null,
   "id": "acce79e8-f569-49d1-957d-64c9ff8cb24c",
   "metadata": {},
   "outputs": [],
   "source": [
    "\n",
    "def SpatialAttention(input):\n",
    "    x = layers.Conv2D(filters=16, kernel_size=3, strides=1, padding='same')(input)\n",
    "    x = layers.ReLU()(x)\n",
    "    x = layers.Conv2D(filters=1, kernel_size=3, strides=1, padding='same')(x)\n",
    "    out = layers.Activation('sigmoid')(x)\n",
    "\n",
    "    return out\n",
    "    \n",
    "'''\n",
    "def SpatialAttention(input):\n",
    "    x_shortcut = input\n",
    "    x = layers.Conv2D(filters=16, kernel_size=3, strides=1, padding='same')(input)\n",
    "    x = layers.ReLU()(x)\n",
    "    x = layers.Conv2D(filters=1, kernel_size=3, strides=1, padding='same')(x)\n",
    "    x = layers.Activation('sigmoid')(x)\n",
    "    out = layers.Multiply()([x_shortcut, x])\n",
    "\n",
    "    return out\n",
    "    '''"
   ]
  },
  {
   "cell_type": "code",
   "execution_count": 7,
   "id": "a5870764-8014-4f9e-98bf-3d37e9bf7db2",
   "metadata": {},
   "outputs": [],
   "source": [
    "\n",
    "def ChannelAttention(input):\n",
    "    sh = input.get_shape().as_list()\n",
    "    x = layers.GlobalAveragePooling2D()(input)\n",
    "    x = layers.Dense(8)(x)\n",
    "    x = layers.ReLU()(x)\n",
    "    x = layers.Dense(sh[-1])(x)\n",
    "    out = layers.Activation('sigmoid')(x)\n",
    "\n",
    "    return out\n"
   ]
  },
  {
   "cell_type": "code",
   "execution_count": 8,
   "id": "9712dff1-f8f6-42b7-8a1a-f23ac81e9740",
   "metadata": {},
   "outputs": [],
   "source": [
    "def ResidualAttentionBlock(x):\n",
    "    x_shortcut = x\n",
    "\n",
    "    x = layers.Conv2D(filters=1, kernel_size=3, padding=\"same\")(x)  # conv 1\n",
    "   # x = layers.BatchNormalization()(x)\n",
    "    spatial_attention = SpatialAttention(x)  # spatial attention\n",
    "    x = layers.Multiply()([x, spatial_attention])  # multiply\n",
    "\n",
    "    x = layers.Conv2D(filters=64, kernel_size=3, padding=\"same\")(x)  # conv 2\n",
    "   # x = layers.BatchNormalization()(x)\n",
    "    x = layers.LeakyReLU(alpha=0.05)(x)  # leaky relu\n",
    "    x = layers.Conv2D(filters=1, kernel_size=3, padding=\"same\")(x)  # conv 2\n",
    "  #  x = layers.BatchNormalization()(x)\n",
    "\n",
    "    x = layers.Add()([x, x_shortcut])  # add\n",
    "  #  x = layers.BatchNormalization()(x)\n",
    "  #  x = activations.sigmoid(x)\n",
    "\n",
    "    return x\n"
   ]
  },
  {
   "cell_type": "code",
   "execution_count": 9,
   "id": "1d6487fa-fb60-4719-9610-3e2b353b9b04",
   "metadata": {},
   "outputs": [],
   "source": [
    "def CNN(num_blocks):\n",
    "    input_layer = layers.Input(shape=(256, 256, 1))\n",
    "    x = input_layer\n",
    "\n",
    "    for _ in range(num_blocks):\n",
    "        x = ResidualAttentionBlock(x)\n",
    "\n",
    "    model = tf.keras.Model(inputs=input_layer, outputs=x)\n",
    "    return model\n"
   ]
  },
  {
   "cell_type": "code",
   "execution_count": 10,
   "id": "90ec307f-86ac-4e43-91ee-6ea5fbf43485",
   "metadata": {},
   "outputs": [],
   "source": [
    "num_blocks = 30\n",
    "\n",
    "optimizer = optimizers.Adam(learning_rate=0.001)\n",
    "\n",
    "Model = CNN(num_blocks)\n",
    "\n",
    "Model.compile(optimizer=optimizer, loss='mae')\n",
    "# Model.summary()"
   ]
  },
  {
   "cell_type": "code",
   "execution_count": 11,
   "id": "e9c77bf7-f969-4fed-86c1-efc4d50c461b",
   "metadata": {},
   "outputs": [],
   "source": [
    "X_val = []\n",
    "y_val = []\n",
    "validation_data(X_val, y_val)\n",
    "X_val = np.array(X_val) / 255.0\n",
    "y_val = np.array(y_val) / 255.0"
   ]
  },
  {
   "cell_type": "code",
   "execution_count": null,
   "id": "0c36ddcb-d062-43f3-a9e4-cdc300ddf6cf",
   "metadata": {
    "scrolled": true
   },
   "outputs": [],
   "source": [
    "epochs = 20\n",
    "st_ix = 0\n",
    "for i in range(epochs):\n",
    "    X_train = []\n",
    "    y_train = []\n",
    "    \n",
    "    \n",
    "    st_ix = data_generator(X_train, y_train, st_ix)\n",
    "\n",
    "    X_train = np.array(X_train) / 255.0\n",
    "    y_train = np.array(y_train) / 255.0\n",
    "    \n",
    "\n",
    "    os.chdir(root)\n",
    "    if i != 0:\n",
    "        # loading the saved model\n",
    "        Model = tf.keras.models.load_model('./MyModel_tf')\n",
    "    \n",
    "    Model.fit(\n",
    "        x=X_train,\n",
    "        y=y_train,\n",
    "        epochs=3,\n",
    "        batch_size=2,\n",
    "        shuffle=False,\n",
    "        validation_data=(X_val, y_val)\n",
    "    )\n",
    "\n",
    "    Model.save('./MyModel_tf',save_format='tf'),\n",
    "\n",
    "\n"
   ]
  },
  {
   "cell_type": "code",
   "execution_count": null,
   "id": "92fac345-bca9-4c3a-87d6-bf5efe438f1c",
   "metadata": {},
   "outputs": [],
   "source": [
    "Model = tf.keras.models.load_model('./MyModel_tf')"
   ]
  },
  {
   "cell_type": "code",
   "execution_count": null,
   "id": "565d165a-014a-4f1f-99fb-75c7dffb5b0e",
   "metadata": {},
   "outputs": [],
   "source": [
    "predictions = Model.predict(encoded_images_array)"
   ]
  },
  {
   "cell_type": "code",
   "execution_count": null,
   "id": "17855dc4-fdfb-44b9-9291-e95d21993efe",
   "metadata": {},
   "outputs": [],
   "source": [
    "predictions[predictions < 0] = 0\n",
    "\n",
    "predictions[predictions > 255] = 255"
   ]
  },
  {
   "cell_type": "code",
   "execution_count": null,
   "id": "b8950d0e-855c-4248-b4ed-9a0ec88e8ad8",
   "metadata": {},
   "outputs": [],
   "source": [
    "os.chdir(root)\n",
    "cv2.imwrite(\"C:\\\\Users\\\\Furkan\\\\Desktop\\\\BLG4901E\\\\CNN\\\\as.png\", predictions[0] * 255)"
   ]
  },
  {
   "cell_type": "code",
   "execution_count": null,
   "id": "542eb079-7484-4d48-b1a2-7cbee627fd46",
   "metadata": {},
   "outputs": [],
   "source": []
  }
 ],
 "metadata": {
  "kernelspec": {
   "display_name": "Python 3 (ipykernel)",
   "language": "python",
   "name": "python3"
  },
  "language_info": {
   "codemirror_mode": {
    "name": "ipython",
    "version": 3
   },
   "file_extension": ".py",
   "mimetype": "text/x-python",
   "name": "python",
   "nbconvert_exporter": "python",
   "pygments_lexer": "ipython3",
   "version": "3.10.13"
  }
 },
 "nbformat": 4,
 "nbformat_minor": 5
}

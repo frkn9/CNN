{
 "cells": [
  {
   "cell_type": "code",
   "execution_count": 1,
   "id": "955ac7f4-faa1-4658-b6b1-99727a5f9118",
   "metadata": {},
   "outputs": [],
   "source": [
    "import os\n",
    "import cv2\n",
    "import numpy as np\n",
    "import tensorflow as tf\n",
    "from tensorflow.keras import activations\n",
    "from tensorflow.keras import layers\n",
    "from tensorflow.keras import optimizers\n",
    "from tensorflow.compat.v1 import ConfigProto\n",
    "from tensorflow.compat.v1 import InteractiveSession\n",
    "%matplotlib inline\n",
    "from matplotlib import pyplot as plt\n",
    "from keras.callbacks import CSVLogger\n",
    "import gc\n",
    "\n",
    "\n",
    "config = ConfigProto()\n",
    "config.gpu_options.allow_growth = True\n",
    "session = InteractiveSession(config=config)\n",
    "\n",
    "root = os.getcwd()\n"
   ]
  },
  {
   "cell_type": "code",
   "execution_count": 2,
   "id": "564eefe5-bb9d-4f48-b130-e22535f86017",
   "metadata": {},
   "outputs": [],
   "source": [
    "def data_generator(encoded_images_array, ground_truth_array, start_index):\n",
    "    \n",
    "    path_post_enc = \"C:\\\\Users\\\\Furkan\\\\Desktop\\\\BLG4901E\\\\nii_deney\\\\post_enc_frames\"\n",
    "    path_pre_enc = \"C:\\\\Users\\\\Furkan\\\\Desktop\\\\BLG4901E\\\\nii_deney\\\\pre_enc_frames\"\n",
    "    batch_size = 1   # bir klasör kadar (130) görsel verir\n",
    "    \n",
    "    folders = os.listdir(path_post_enc)\n",
    "    for i in range(start_index, start_index + batch_size):\n",
    "        os.chdir(os.path.join(path_post_enc, folders[i]))\n",
    "        files = os.listdir(os.getcwd())\n",
    "        for file in files:\n",
    "            with open(file, 'rb') as yuv_file:\n",
    "                encoded_images_array.append(np.frombuffer(yuv_file.read(256 * 256), dtype=np.uint8).reshape((256, 256)))\n",
    "\n",
    "    folders = os.listdir(path_pre_enc)\n",
    "    for i in range(start_index, start_index + batch_size):\n",
    "        os.chdir(os.path.join(path_pre_enc, folders[i]))\n",
    "        files = os.listdir(os.getcwd())\n",
    "        for file in files:\n",
    "            with open(file, 'rb') as yuv_file:\n",
    "                ground_truth_array.append(np.frombuffer(yuv_file.read(256 * 256), dtype=np.uint8).reshape((256, 256)))\n",
    "\n",
    "    return start_index + batch_size\n"
   ]
  },
  {
   "cell_type": "code",
   "execution_count": 3,
   "id": "134cc2ff-5583-4f43-acba-480fffdc4245",
   "metadata": {},
   "outputs": [],
   "source": [
    "def validation_data(X_val, y_val):\n",
    "    path_post_enc = \"C:\\\\Users\\\\Furkan\\\\Desktop\\\\BLG4901E\\\\nii_deney\\\\post_enc_frames\"\n",
    "    path_pre_enc = \"C:\\\\Users\\\\Furkan\\\\Desktop\\\\BLG4901E\\\\nii_deney\\\\pre_enc_frames\"\n",
    "    \n",
    "    folders = os.listdir(path_post_enc)\n",
    "    for i in range(570, 578):\n",
    "        os.chdir(os.path.join(path_post_enc, folders[i]))\n",
    "        files = os.listdir(os.getcwd())\n",
    "        for file in files:\n",
    "            with open(file, 'rb') as yuv_file:\n",
    "                X_val.append(np.frombuffer(yuv_file.read(256 * 256), dtype=np.uint8).reshape((256, 256)))\n",
    "\n",
    "    folders = os.listdir(path_pre_enc)\n",
    "    for i in range(570, 578):\n",
    "        os.chdir(os.path.join(path_pre_enc, folders[i]))\n",
    "        files = os.listdir(os.getcwd())\n",
    "        for file in files:\n",
    "            with open(file, 'rb') as yuv_file:\n",
    "                y_val.append(np.frombuffer(yuv_file.read(256 * 256), dtype=np.uint8).reshape((256, 256)))"
   ]
  },
  {
   "cell_type": "code",
   "execution_count": 4,
   "id": "acce79e8-f569-49d1-957d-64c9ff8cb24c",
   "metadata": {},
   "outputs": [],
   "source": [
    "'''\n",
    "def SpatialAttention(input):\n",
    "    x = layers.Conv2D(filters=32, kernel_size=3, strides=1, padding='same')(input)\n",
    "    x = layers.ReLU()(x)\n",
    "    x = layers.Conv2D(filters=1, kernel_size=3, strides=1, padding='same')(x)\n",
    "    out = layers.Activation('sigmoid')(x)\n",
    "\n",
    "    return out\n",
    "''' \n",
    "def SpatialAttention(input):\n",
    "    x_shortcut = input\n",
    "    x = layers.Conv2D(filters=32, kernel_size=3, strides=1, padding='same')(input)\n",
    "    x = layers.ReLU()(x)\n",
    "    x = layers.Conv2D(filters=1, kernel_size=3, strides=1, padding='same')(x)\n",
    "    x = layers.Activation('sigmoid')(x)\n",
    "    out = layers.Multiply()([x_shortcut, x])\n",
    "\n",
    "    return out"
   ]
  },
  {
   "cell_type": "code",
   "execution_count": 5,
   "id": "a5870764-8014-4f9e-98bf-3d37e9bf7db2",
   "metadata": {},
   "outputs": [],
   "source": [
    "\n",
    "def ChannelAttention(input):\n",
    "    sh = input.get_shape().as_list()\n",
    "    x = layers.GlobalAveragePooling2D()(input)\n",
    "    x = layers.Dense(8)(x)\n",
    "    x = layers.ReLU()(x)\n",
    "    x = layers.Dense(sh[-1])(x)\n",
    "    out = layers.Activation('sigmoid')(x)\n",
    "\n",
    "    return out\n"
   ]
  },
  {
   "cell_type": "code",
   "execution_count": 6,
   "id": "9712dff1-f8f6-42b7-8a1a-f23ac81e9740",
   "metadata": {},
   "outputs": [],
   "source": [
    "def ResidualAttentionBlock(x):\n",
    "    x_shortcut = x\n",
    "\n",
    "    x = layers.Conv2D(filters=1, kernel_size=3, padding=\"same\")(x)  # conv 1\n",
    "   # x = layers.BatchNormalization()(x)\n",
    "    spatial_attention = SpatialAttention(x)  # spatial attention\n",
    "    x = layers.Multiply()([x, spatial_attention])  # multiply\n",
    "\n",
    "    x = layers.Conv2D(filters=64, kernel_size=3, padding=\"same\")(x)  # conv 2\n",
    "   # x = layers.BatchNormalization()(x)\n",
    "    x = layers.LeakyReLU(alpha=0.1)(x)  # leaky relu\n",
    "    x = layers.Conv2D(filters=1, kernel_size=3, padding=\"same\")(x)  # conv 2\n",
    "  #  x = layers.BatchNormalization()(x)\n",
    "\n",
    "    x = layers.Add()([x, x_shortcut])  # add\n",
    "  #  x = layers.BatchNormalization()(x)\n",
    "  #  x = activations.sigmoid(x)\n",
    "\n",
    "    return x\n"
   ]
  },
  {
   "cell_type": "code",
   "execution_count": 7,
   "id": "1d6487fa-fb60-4719-9610-3e2b353b9b04",
   "metadata": {},
   "outputs": [],
   "source": [
    "def CNN(num_blocks):\n",
    "    input_layer = layers.Input(shape=(256, 256, 1))\n",
    "    x = input_layer\n",
    "\n",
    "    for _ in range(num_blocks):\n",
    "        x = ResidualAttentionBlock(x)\n",
    "\n",
    "    model = tf.keras.Model(inputs=input_layer, outputs=x)\n",
    "    return model\n"
   ]
  },
  {
   "cell_type": "code",
   "execution_count": 8,
   "id": "90ec307f-86ac-4e43-91ee-6ea5fbf43485",
   "metadata": {},
   "outputs": [],
   "source": [
    "num_blocks = 30\n",
    "Model = CNN(num_blocks)"
   ]
  },
  {
   "cell_type": "code",
   "execution_count": 9,
   "id": "e9c77bf7-f969-4fed-86c1-efc4d50c461b",
   "metadata": {},
   "outputs": [
    {
     "data": {
      "text/plain": [
       "'\\nX_val = []\\ny_val = []\\nvalidation_data(X_val, y_val)\\nX_val = np.array(X_val) / 255.0\\ny_val = np.array(y_val) / 255.0\\n'"
      ]
     },
     "execution_count": 9,
     "metadata": {},
     "output_type": "execute_result"
    }
   ],
   "source": [
    "'''\n",
    "X_val = []\n",
    "y_val = []\n",
    "validation_data(X_val, y_val)\n",
    "X_val = np.array(X_val) / 255.0\n",
    "y_val = np.array(y_val) / 255.0\n",
    "'''"
   ]
  },
  {
   "cell_type": "code",
   "execution_count": 10,
   "id": "5c8c5a35-4967-4ad7-89e0-05bed54c10dc",
   "metadata": {},
   "outputs": [],
   "source": [
    "csv_logger = CSVLogger('C:\\\\Users\\\\Furkan\\\\Desktop\\\\BLG4901E\\\\CNN\\\\log.csv', append=True, separator=';')"
   ]
  },
  {
   "cell_type": "code",
   "execution_count": 11,
   "id": "2503d565-a5bb-447d-8102-8744635c5689",
   "metadata": {},
   "outputs": [],
   "source": [
    "checkpoint_filepath = 'C:\\\\Users\\\\Furkan\\\\Desktop\\\\BLG4901E\\\\CNN\\\\chkpt\\\\model_checkpoint.h5'"
   ]
  },
  {
   "cell_type": "code",
   "execution_count": 12,
   "id": "4a539d56-4e17-44f8-9901-b742352162cd",
   "metadata": {},
   "outputs": [],
   "source": [
    "checkpoint_filepath = 'C:\\\\Users\\\\Furkan\\\\Desktop\\\\BLG4901E\\\\CNN\\\\chkpt\\\\model_checkpoint.h5'\n",
    "model_checkpoint_callback = tf.keras.callbacks.ModelCheckpoint(\n",
    "    filepath=checkpoint_filepath,\n",
    "    monitor='loss',\n",
    "    mode='max',\n",
    "    save_best_only=False,\n",
    "    save_weights_only=False,\n",
    "    save_freq=\"epoch\")"
   ]
  },
  {
   "cell_type": "code",
   "execution_count": 13,
   "id": "784fae61-4881-4ca0-a51c-89e07c2ee658",
   "metadata": {},
   "outputs": [],
   "source": [
    "# Model = tf.keras.models.load_model(checkpoint_filepath)"
   ]
  },
  {
   "cell_type": "code",
   "execution_count": 14,
   "id": "7e45cc06-2fc4-43a1-b3fb-d837c25a91ff",
   "metadata": {},
   "outputs": [],
   "source": [
    "optimizer = optimizers.Adam(learning_rate=1e-4, beta_1=0, beta_2=0.999)\n",
    "Model.compile(optimizer=optimizer, loss='mae', metrics=[\"mse\", \"mae\"])\n",
    "# Model.summary()"
   ]
  },
  {
   "cell_type": "code",
   "execution_count": null,
   "id": "0c36ddcb-d062-43f3-a9e4-cdc300ddf6cf",
   "metadata": {},
   "outputs": [
    {
     "name": "stdout",
     "output_type": "stream",
     "text": [
      "130/130 [==============================] - 63s 413ms/step - loss: 0.0208 - mse: 0.0019 - mae: 0.0208\n",
      "130/130 [==============================] - 52s 400ms/step - loss: 0.0190 - mse: 0.0015 - mae: 0.0190\n",
      "130/130 [==============================] - 50s 381ms/step - loss: 0.0186 - mse: 0.0014 - mae: 0.0186\n",
      "130/130 [==============================] - 48s 372ms/step - loss: 0.0179 - mse: 0.0013 - mae: 0.0179\n",
      "130/130 [==============================] - 51s 394ms/step - loss: 0.0179 - mse: 0.0013 - mae: 0.0179\n",
      "130/130 [==============================] - 33s 252ms/step - loss: 0.0179 - mse: 0.0013 - mae: 0.0179\n",
      "130/130 [==============================] - 33s 252ms/step - loss: 0.0178 - mse: 0.0013 - mae: 0.0178\n",
      "130/130 [==============================] - 33s 254ms/step - loss: 0.0180 - mse: 0.0013 - mae: 0.0180\n",
      "130/130 [==============================] - 33s 255ms/step - loss: 0.0179 - mse: 0.0013 - mae: 0.0179\n",
      "130/130 [==============================] - 33s 255ms/step - loss: 0.0175 - mse: 0.0013 - mae: 0.0175\n",
      "130/130 [==============================] - 33s 257ms/step - loss: 0.0175 - mse: 0.0013 - mae: 0.0175\n",
      "130/130 [==============================] - 33s 255ms/step - loss: 0.0174 - mse: 0.0012 - mae: 0.0174\n",
      "130/130 [==============================] - 33s 257ms/step - loss: 0.0174 - mse: 0.0012 - mae: 0.0174\n",
      "130/130 [==============================] - 33s 257ms/step - loss: 0.0175 - mse: 0.0012 - mae: 0.0175\n",
      "130/130 [==============================] - 33s 257ms/step - loss: 0.0175 - mse: 0.0013 - mae: 0.0175\n",
      "130/130 [==============================] - 33s 257ms/step - loss: 0.0176 - mse: 0.0013 - mae: 0.0176\n",
      "130/130 [==============================] - 33s 258ms/step - loss: 0.0173 - mse: 0.0012 - mae: 0.0173\n",
      "130/130 [==============================] - 33s 257ms/step - loss: 0.0172 - mse: 0.0012 - mae: 0.0172\n",
      "130/130 [==============================] - 33s 257ms/step - loss: 0.0174 - mse: 0.0012 - mae: 0.0174\n",
      "130/130 [==============================] - 34s 259ms/step - loss: 0.0174 - mse: 0.0012 - mae: 0.0174\n",
      "130/130 [==============================] - 33s 258ms/step - loss: 0.0173 - mse: 0.0012 - mae: 0.0173\n",
      "130/130 [==============================] - 34s 258ms/step - loss: 0.0173 - mse: 0.0012 - mae: 0.0173\n",
      "130/130 [==============================] - 33s 257ms/step - loss: 0.0174 - mse: 0.0012 - mae: 0.0174\n",
      "130/130 [==============================] - 34s 258ms/step - loss: 0.0172 - mse: 0.0012 - mae: 0.0172\n",
      "130/130 [==============================] - 33s 257ms/step - loss: 0.0174 - mse: 0.0012 - mae: 0.0174\n",
      "130/130 [==============================] - 34s 258ms/step - loss: 0.0172 - mse: 0.0012 - mae: 0.0172\n",
      "130/130 [==============================] - 33s 257ms/step - loss: 0.0172 - mse: 0.0012 - mae: 0.0172\n",
      "130/130 [==============================] - 34s 259ms/step - loss: 0.0172 - mse: 0.0012 - mae: 0.0172\n",
      "130/130 [==============================] - 33s 257ms/step - loss: 0.0171 - mse: 0.0012 - mae: 0.0171\n",
      "130/130 [==============================] - 33s 256ms/step - loss: 0.0173 - mse: 0.0012 - mae: 0.0173\n",
      "130/130 [==============================] - 34s 263ms/step - loss: 0.0171 - mse: 0.0012 - mae: 0.0171\n",
      "130/130 [==============================] - 34s 260ms/step - loss: 0.0171 - mse: 0.0012 - mae: 0.0171\n",
      "130/130 [==============================] - 34s 261ms/step - loss: 0.0172 - mse: 0.0012 - mae: 0.0172\n",
      "130/130 [==============================] - 34s 263ms/step - loss: 0.0171 - mse: 0.0012 - mae: 0.0171\n",
      "130/130 [==============================] - 34s 263ms/step - loss: 0.0171 - mse: 0.0012 - mae: 0.0171\n",
      "130/130 [==============================] - 34s 260ms/step - loss: 0.0171 - mse: 0.0012 - mae: 0.0171\n",
      "130/130 [==============================] - 34s 261ms/step - loss: 0.0170 - mse: 0.0012 - mae: 0.0170\n",
      "130/130 [==============================] - 34s 260ms/step - loss: 0.0170 - mse: 0.0012 - mae: 0.0170\n",
      "130/130 [==============================] - 34s 260ms/step - loss: 0.0171 - mse: 0.0012 - mae: 0.0171\n",
      "130/130 [==============================] - 34s 261ms/step - loss: 0.0170 - mse: 0.0012 - mae: 0.0170\n",
      "130/130 [==============================] - 34s 263ms/step - loss: 0.0170 - mse: 0.0012 - mae: 0.0170\n",
      "130/130 [==============================] - 34s 260ms/step - loss: 0.0170 - mse: 0.0012 - mae: 0.0170\n",
      "130/130 [==============================] - 34s 259ms/step - loss: 0.0170 - mse: 0.0012 - mae: 0.0170\n",
      "130/130 [==============================] - 34s 259ms/step - loss: 0.0170 - mse: 0.0012 - mae: 0.0170\n",
      " 26/130 [=====>........................] - ETA: 26s - loss: 0.0155 - mse: 0.0010 - mae: 0.0155"
     ]
    }
   ],
   "source": [
    "# epochs = 460 (0.8 test size)\n",
    "epochs = 460\n",
    "for i in range (epochs):\n",
    "    file_path = 'C:\\\\Users\\\\Furkan\\\\Desktop\\\\BLG4901E\\\\CNN\\\\devam_indisi.txt'\n",
    "    with open(file_path, 'r') as file:\n",
    "        st_ix = int(file.read())\n",
    "        \n",
    "    X_train = []\n",
    "    y_train = []\n",
    "    st_ix = data_generator(X_train, y_train, st_ix)\n",
    "\n",
    "    if st_ix == 1:\n",
    "        with open('C:\\\\Users\\\\Furkan\\\\Desktop\\\\BLG4901E\\\\CNN\\\\kac_epoch.txt', 'r+') as file:\n",
    "            a = int(file.read())\n",
    "            a += 1\n",
    "            file.seek(0)\n",
    "            file.truncate()\n",
    "            file.write(f\"{a}\")\n",
    "        st_ix = 0\n",
    "    \n",
    "    X_train = np.array(X_train) / 255.0\n",
    "    y_train = np.array(y_train) / 255.0\n",
    "\n",
    "    Model.fit(\n",
    "        x=X_train,\n",
    "        y=y_train,\n",
    "        epochs=1,\n",
    "        batch_size=1,\n",
    "        shuffle=True,\n",
    "        callbacks=[model_checkpoint_callback, csv_logger]\n",
    "    )\n",
    "\n",
    "    gc.collect()\n",
    "\n",
    "    with open(file_path, 'w') as file:\n",
    "        file.write(f\"{st_ix}\")"
   ]
  },
  {
   "cell_type": "code",
   "execution_count": null,
   "id": "565d165a-014a-4f1f-99fb-75c7dffb5b0e",
   "metadata": {},
   "outputs": [],
   "source": [
    "'''\n",
    "predictions = Model.predict(X_val)\n",
    "predictions[predictions < 0] = 0\n",
    "predictions[predictions > 255] = 255\n",
    "'''"
   ]
  },
  {
   "cell_type": "code",
   "execution_count": null,
   "id": "b8950d0e-855c-4248-b4ed-9a0ec88e8ad8",
   "metadata": {},
   "outputs": [],
   "source": [
    "'''\n",
    "idx = 0\n",
    "cv2.imwrite(\"C:\\\\Users\\\\Furkan\\\\Desktop\\\\BLG4901E\\\\CNN\\\\gorseller\\\\X.png\", X_val[idx] * 255.0)\n",
    "cv2.imwrite(\"C:\\\\Users\\\\Furkan\\\\Desktop\\\\BLG4901E\\\\CNN\\\\gorseller\\\\pred.png\", predictions[idx] * 255.0)\n",
    "cv2.imwrite(\"C:\\\\Users\\\\Furkan\\\\Desktop\\\\BLG4901E\\\\CNN\\\\gorseller\\\\y.png\", y_val[idx] * 255.0)\n",
    "'''"
   ]
  }
 ],
 "metadata": {
  "kernelspec": {
   "display_name": "Python 3 (ipykernel)",
   "language": "python",
   "name": "python3"
  },
  "language_info": {
   "codemirror_mode": {
    "name": "ipython",
    "version": 3
   },
   "file_extension": ".py",
   "mimetype": "text/x-python",
   "name": "python",
   "nbconvert_exporter": "python",
   "pygments_lexer": "ipython3",
   "version": "3.10.13"
  }
 },
 "nbformat": 4,
 "nbformat_minor": 5
}
